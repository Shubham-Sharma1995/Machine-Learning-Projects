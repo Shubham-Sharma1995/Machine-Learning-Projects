{
  "cells": [
    {
      "cell_type": "markdown",
      "metadata": {
        "id": "view-in-github",
        "colab_type": "text"
      },
      "source": [
        "<a href=\"https://colab.research.google.com/github/Shubham33320/Machine-Learning-Projects/blob/main/outlier_practice.ipynb\" target=\"_parent\"><img src=\"https://colab.research.google.com/assets/colab-badge.svg\" alt=\"Open In Colab\"/></a>"
      ]
    },
    {
      "cell_type": "code",
      "execution_count": null,
      "id": "b0bcaa79",
      "metadata": {
        "id": "b0bcaa79"
      },
      "outputs": [],
      "source": [
        "import numpy as np\n",
        "import matplotlib.pyplot as plt\n",
        "%matplotlib inline "
      ]
    },
    {
      "cell_type": "code",
      "execution_count": null,
      "id": "0a7d299d",
      "metadata": {
        "id": "0a7d299d"
      },
      "outputs": [],
      "source": [
        "### define dataset"
      ]
    },
    {
      "cell_type": "code",
      "execution_count": null,
      "id": "211512d2",
      "metadata": {
        "id": "211512d2"
      },
      "outputs": [],
      "source": [
        "dataset=[11,10,12,14,12,15,102,12,14,17,19,107,10,13,12,14,12,108,12,11,14,13,15,0,15,12,10,14,13,15,10]"
      ]
    },
    {
      "cell_type": "code",
      "execution_count": null,
      "id": "9647a8ce",
      "metadata": {
        "id": "9647a8ce",
        "outputId": "4a0be0ad-e0b8-406d-b617-6c040277e4c8"
      },
      "outputs": [
        {
          "data": {
            "text/plain": [
              "(array([ 5., 23.,  0.,  0.,  0.,  0.,  0.,  0.,  0.,  3.]),\n",
              " array([  0. ,  10.8,  21.6,  32.4,  43.2,  54. ,  64.8,  75.6,  86.4,\n",
              "         97.2, 108. ]),\n",
              " <BarContainer object of 10 artists>)"
            ]
          },
          "execution_count": 7,
          "metadata": {},
          "output_type": "execute_result"
        },
        {
          "data": {
            "image/png": "[encoded data removed]",
            "text/plain": [
              "<Figure size 432x288 with 1 Axes>"
            ]
          },
          "metadata": {
            "needs_background": "light"
          },
          "output_type": "display_data"
        }
      ],
      "source": [
        "plt.hist(dataset)"
      ]
    },
    {
      "cell_type": "code",
      "execution_count": null,
      "id": "492b41f7",
      "metadata": {
        "id": "492b41f7"
      },
      "outputs": [],
      "source": [
        "outliers=[]\n",
        "\n",
        "def detect_outliers(data):\n",
        "    threshold=3\n",
        "    mean=np.mean(data)\n",
        "    std=np.std(data)\n",
        "    \n",
        "    for i in data:\n",
        "        z_score=(i-mean)/std\n",
        "        if np.abs(z_score)>threshold:\n",
        "            outliers.append(i)\n",
        "             \n",
        "    return outliers        \n",
        "            "
      ]
    },
    {
      "cell_type": "code",
      "execution_count": null,
      "id": "aef74714",
      "metadata": {
        "id": "aef74714",
        "outputId": "d2b72120-63a7-47f1-cc3a-56db59d2d733"
      },
      "outputs": [
        {
          "data": {
            "text/plain": [
              "[107, 108]"
            ]
          },
          "execution_count": 9,
          "metadata": {},
          "output_type": "execute_result"
        }
      ],
      "source": [
        "detect_outliers(dataset)"
      ]
    },
    {
      "cell_type": "code",
      "execution_count": null,
      "id": "b7b4d363",
      "metadata": {
        "id": "b7b4d363"
      },
      "outputs": [],
      "source": [
        "#IQR\n",
        "#1. Sort the data\n",
        "#2. Caculate Q1 and Q3\n",
        "#3. IQR(Q3-Q1)\n",
        "#4. Find the lower fence(q1-1.5(iqr))\n",
        "#5. Find the upper fence(q3+ 1.5(iqr) )\n"
      ]
    },
    {
      "cell_type": "code",
      "execution_count": null,
      "id": "fa47f62d",
      "metadata": {
        "id": "fa47f62d",
        "outputId": "a852b1d6-93d6-46f8-dd62-c881b54365c0"
      },
      "outputs": [
        {
          "data": {
            "text/plain": [
              "[0,\n",
              " 10,\n",
              " 10,\n",
              " 10,\n",
              " 10,\n",
              " 11,\n",
              " 11,\n",
              " 12,\n",
              " 12,\n",
              " 12,\n",
              " 12,\n",
              " 12,\n",
              " 12,\n",
              " 12,\n",
              " 13,\n",
              " 13,\n",
              " 13,\n",
              " 14,\n",
              " 14,\n",
              " 14,\n",
              " 14,\n",
              " 14,\n",
              " 15,\n",
              " 15,\n",
              " 15,\n",
              " 15,\n",
              " 17,\n",
              " 19,\n",
              " 102,\n",
              " 107,\n",
              " 108]"
            ]
          },
          "execution_count": 14,
          "metadata": {},
          "output_type": "execute_result"
        }
      ],
      "source": [
        "dataset= sorted(dataset)\n",
        "dataset"
      ]
    },
    {
      "cell_type": "code",
      "execution_count": null,
      "id": "7b62bd9b",
      "metadata": {
        "id": "7b62bd9b"
      },
      "outputs": [],
      "source": [
        "q1,q3=np.percentile(dataset,[25,75])"
      ]
    },
    {
      "cell_type": "code",
      "execution_count": null,
      "id": "ae1f92ba",
      "metadata": {
        "id": "ae1f92ba"
      },
      "outputs": [],
      "source": [
        "iqr=q3-q1"
      ]
    },
    {
      "cell_type": "code",
      "execution_count": null,
      "id": "01019c3f",
      "metadata": {
        "id": "01019c3f",
        "outputId": "7bd89ec1-126e-47a8-9bb9-31de277ba8b0"
      },
      "outputs": [
        {
          "name": "stdout",
          "output_type": "stream",
          "text": [
            "12.0 15.0\n"
          ]
        }
      ],
      "source": [
        "print(q1,q3)"
      ]
    },
    {
      "cell_type": "code",
      "execution_count": null,
      "id": "ee93d417",
      "metadata": {
        "id": "ee93d417"
      },
      "outputs": [],
      "source": [
        "#find the lower fence and higher fence\n",
        "lower_fence=q1-(1.5*iqr)\n",
        "higher_fence= q3+(1.5*iqr)\n"
      ]
    },
    {
      "cell_type": "code",
      "execution_count": null,
      "id": "6a25e769",
      "metadata": {
        "id": "6a25e769",
        "outputId": "54d6efb3-dec0-4598-bd6b-a785f79d83f0"
      },
      "outputs": [
        {
          "name": "stdout",
          "output_type": "stream",
          "text": [
            "7.5\n",
            "19.5\n"
          ]
        }
      ],
      "source": [
        "print(lower_fence)\n",
        "print(higher_fence)"
      ]
    },
    {
      "cell_type": "code",
      "execution_count": null,
      "id": "94c351cc",
      "metadata": {
        "id": "94c351cc"
      },
      "outputs": [],
      "source": [
        "import seaborn as sns   \n",
        "    "
      ]
    },
    {
      "cell_type": "code",
      "execution_count": null,
      "id": "00a6fd56",
      "metadata": {
        "id": "00a6fd56",
        "outputId": "625cf20b-cf1b-4c2d-839a-72c26a87bd39"
      },
      "outputs": [
        {
          "name": "stderr",
          "output_type": "stream",
          "text": [
            "C:\\Users\\Shubham Sharma\\ANACONDA\\lib\\site-packages\\seaborn\\_decorators.py:36: FutureWarning: Pass the following variable as a keyword arg: x. From version 0.12, the only valid positional argument will be `data`, and passing other arguments without an explicit keyword will result in an error or misinterpretation.\n",
            "  warnings.warn(\n"
          ]
        },
        {
          "data": {
            "text/plain": [
              "<AxesSubplot:>"
            ]
          },
          "execution_count": 24,
          "metadata": {},
          "output_type": "execute_result"
        },
        {
          "data": {
            "image/png": "[encoded data removed]",
            "text/plain": [
              "<Figure size 432x288 with 1 Axes>"
            ]
          },
          "metadata": {
            "needs_background": "light"
          },
          "output_type": "display_data"
        }
      ],
      "source": [
        "sns.boxplot(dataset)"
      ]
    },
    {
      "cell_type": "code",
      "execution_count": null,
      "id": "bc2dad2b",
      "metadata": {
        "id": "bc2dad2b"
      },
      "outputs": [],
      "source": [
        " "
      ]
    }
  ],
  "metadata": {
    "kernelspec": {
      "display_name": "Python 3",
      "language": "python",
      "name": "python3"
    },
    "language_info": {
      "codemirror_mode": {
        "name": "ipython",
        "version": 3
      },
      "file_extension": ".py",
      "mimetype": "text/x-python",
      "name": "python",
      "nbconvert_exporter": "python",
      "pygments_lexer": "ipython3",
      "version": "3.8.8"
    },
    "colab": {
      "name": "outlier practice.ipynb",
      "provenance": [],
      "include_colab_link": true
    }
  },
  "nbformat": 4,
  "nbformat_minor": 5
}